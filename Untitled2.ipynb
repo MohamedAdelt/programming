{
 "cells": [
  {
   "cell_type": "code",
   "execution_count": 4,
   "id": "9fc5ff2c-f241-48c3-b0e5-8011569cb8c5",
   "metadata": {},
   "outputs": [
    {
     "name": "stdout",
     "output_type": "stream",
     "text": [
      "It's a cold day. Stay warm!\n"
     ]
    }
   ],
   "source": [
    "#Task: Weather Advisor\n",
    "##Write a Python program that asks the user to input the current temperature in Celsius. Based on\n",
    "#the input, your program should display an appropriate message:\n",
    "#1. If the temperature is greater than or equal to 30, print:\n",
    "#\"It's a hot day. Stay hydrated!\"\n",
    "#2. If the temperature is between 20 and 29 (inclusive), print:\n",
    "#\"It's a warm day. Enjoy the weather!\"\n",
    "#3. If the temperature is between 10 and 19 (inclusive), print:\n",
    "#\"It's a cool day. Wear a jacket!\"\n",
    "#4. If the temperature is below 10, print:\n",
    "# \"It's a cold day. Stay warm!\"\n",
    "\n",
    "######\n",
    "temperature = 20\n",
    "if temperature >=30:\n",
    "    print(\"It's a hot day. Stay hydrated!\")\n",
    "elif 20 >=  temperature >= 29 :\n",
    "    print(\"It's a warm day. Enjoy the weather!\")\n",
    "elif 10 >= temperature >= 19 :\n",
    "    print(\"It's a cool day. Wear a jacket!\")\n",
    "else :\n",
    "    print ( \"It's a cold day. Stay warm!\")"
   ]
  },
  {
   "cell_type": "code",
   "execution_count": null,
   "id": "e4913b7a-44e7-412b-8f2c-81483e1d92a9",
   "metadata": {},
   "outputs": [],
   "source": []
  },
  {
   "cell_type": "code",
   "execution_count": 22,
   "id": "9a03daac-59fa-440b-b897-fcf5d1fbf49e",
   "metadata": {},
   "outputs": [
    {
     "name": "stdout",
     "output_type": "stream",
     "text": [
      "3 divisible by 3\n",
      "6 divisible by 3\n",
      "9 divisible by 3\n",
      "12 divisible by 3\n",
      "15 divisible by 3\n",
      "18 divisible by 3\n"
     ]
    }
   ],
   "source": [
    "##Task: Filter and Transform a List\n",
    "#Write a Python program that processes a list of numbers and performs the following tasks:\n",
    "#1. Create a list of integers from 1 to 20.\n",
    "#2. Use a for loop to find all the numbers in the list that are divisible by 3.\n",
    "#3. Print the .numbers divisible by 3\n",
    "######\n",
    "numbers = list(range (1,20))\n",
    "for num in numbers :\n",
    "    if num % 3 == 0:\n",
    "        print (f\"{num} divisible by 3\")"
   ]
  },
  {
   "cell_type": "code",
   "execution_count": null,
   "id": "a4185af0-cf21-42ad-b06b-ce9ff515b0c8",
   "metadata": {},
   "outputs": [],
   "source": []
  }
 ],
 "metadata": {
  "kernelspec": {
   "display_name": "Python [conda env:base] *",
   "language": "python",
   "name": "conda-base-py"
  },
  "language_info": {
   "codemirror_mode": {
    "name": "ipython",
    "version": 3
   },
   "file_extension": ".py",
   "mimetype": "text/x-python",
   "name": "python",
   "nbconvert_exporter": "python",
   "pygments_lexer": "ipython3",
   "version": "3.12.7"
  }
 },
 "nbformat": 4,
 "nbformat_minor": 5
}
